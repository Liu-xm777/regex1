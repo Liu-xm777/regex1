{
 "cells": [
  {
   "cell_type": "code",
   "execution_count": 16,
   "id": "3e6b51a8",
   "metadata": {},
   "outputs": [
    {
     "name": "stdout",
     "output_type": "stream",
     "text": [
      "請輸入一個email地址28306871@qq.com\n",
      "有效的email地址\n"
     ]
    }
   ],
   "source": [
    "import re\n",
    "b= input('請輸入一個email地址')\n",
    "regex = re.compile(r'([A-Za-z0-9]+[.-_])*[A-Za-z0-9]+@[A-Za-z0-9-]+(\\.[A-Z|a-z]{2,})+')\n",
    "\n",
    "def isValid(email):\n",
    "    if re.fullmatch(regex, email):\n",
    "        print('有效的email地址')\n",
    "    else:\n",
    "        print('无效的email地址')\n",
    "\n",
    "isValid(b)"
   ]
  },
  {
   "cell_type": "code",
   "execution_count": null,
   "id": "e2623c7e",
   "metadata": {},
   "outputs": [],
   "source": []
  },
  {
   "cell_type": "code",
   "execution_count": null,
   "id": "60b7b308",
   "metadata": {},
   "outputs": [],
   "source": []
  }
 ],
 "metadata": {
  "kernelspec": {
   "display_name": "Python 3 (ipykernel)",
   "language": "python",
   "name": "python3"
  },
  "language_info": {
   "codemirror_mode": {
    "name": "ipython",
    "version": 3
   },
   "file_extension": ".py",
   "mimetype": "text/x-python",
   "name": "python",
   "nbconvert_exporter": "python",
   "pygments_lexer": "ipython3",
   "version": "3.11.4"
  }
 },
 "nbformat": 4,
 "nbformat_minor": 5
}
